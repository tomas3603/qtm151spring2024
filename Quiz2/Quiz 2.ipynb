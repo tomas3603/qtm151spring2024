{
 "cells": [
  {
   "attachments": {},
   "cell_type": "markdown",
   "metadata": {},
   "source": [
    "# <span style=\"color:darkblue\"> QTM 151 - Quiz 2 </span>"
   ]
  },
  {
   "attachments": {},
   "cell_type": "markdown",
   "metadata": {},
   "source": [
    "## Try to submit as an HTML file"
   ]
  },
  {
   "attachments": {},
   "cell_type": "markdown",
   "metadata": {},
   "source": [
    "<font size=\"5\"> \n",
    "\n",
    "Print your name below"
   ]
  },
  {
   "cell_type": "code",
   "execution_count": 1,
   "metadata": {},
   "outputs": [
    {
     "name": "stdout",
     "output_type": "stream",
     "text": [
      "tkhossa\n"
     ]
    }
   ],
   "source": [
    "# Write your answer here\n",
    "print('tkhossa')\n",
    "\n"
   ]
  },
  {
   "attachments": {},
   "cell_type": "markdown",
   "metadata": {},
   "source": [
    "<font size = \"5\" >\n",
    "This quiz is open book \n",
    "\n",
    "- You can use the lecture notes\n",
    "- You will get partial credit for attempting the questions\n",
    "- To get full credit, the code should run as intended\n",
    "- You should <span style=\"color:red\"> NOT </span> communicate with other students\n",
    "\n",
    "Print the following message: <br>\n",
    "\n",
    "\"I will abide by Emory's code of conduct\"\n"
   ]
  },
  {
   "cell_type": "code",
   "execution_count": 3,
   "metadata": {},
   "outputs": [
    {
     "name": "stdout",
     "output_type": "stream",
     "text": [
      "I will abide by Emorys code of conduct\n"
     ]
    }
   ],
   "source": [
    "# Write your answer here:\n",
    "\n",
    "print('I will abide by Emorys code of conduct')\n"
   ]
  },
  {
   "attachments": {},
   "cell_type": "markdown",
   "metadata": {},
   "source": [
    "<font size = \"5\">\n",
    "\n",
    "Import the libraries \"numpy\", \"matplotlib.pyplot\", <br>\n",
    "\"pandas\", \"statsmodels.api\" and \"statsmodels.formula.api\"\n"
   ]
  },
  {
   "cell_type": "code",
   "execution_count": 5,
   "metadata": {},
   "outputs": [],
   "source": [
    "# Write your answer here\n",
    "\n",
    "import numpy as np\n",
    "import matplotlib.pyplot as plt\n",
    "import pandas as pd\n",
    "import statsmodels.api as sm\n",
    "import statsmodels.formula.api as smf"
   ]
  },
  {
   "attachments": {},
   "cell_type": "markdown",
   "metadata": {},
   "source": [
    "<font size = \"5\">\n",
    "\n",
    "Read the dataset \"data_quiz/fifa23_players_basic.csv\"\n",
    "\n",
    "- It's a dataset on professional soccer players\n",
    "- Rows correspond to players (18,539)\n",
    "- Columns contain attributes of players (32)\n",
    "- Try to view the dataset before starting <br>\n",
    "to get a sense of its content"
   ]
  },
  {
   "cell_type": "code",
   "execution_count": 7,
   "metadata": {},
   "outputs": [
    {
     "name": "stdout",
     "output_type": "stream",
     "text": [
      "Unnamed: 0                      int64\n",
      "Known As                       object\n",
      "Full Name                      object\n",
      "Overall                         int64\n",
      "Potential                       int64\n",
      "Value(in Euro)                  int64\n",
      "Positions Played               object\n",
      "Best Position                  object\n",
      "Nationality                    object\n",
      "Image Link                     object\n",
      "Age                             int64\n",
      "Height(in cm)                   int64\n",
      "Weight(in kg)                   int64\n",
      "TotalStats                      int64\n",
      "BaseStats                       int64\n",
      "Club Name                      object\n",
      "Wage(in Euro)                   int64\n",
      "Release Clause                  int64\n",
      "Club Position                  object\n",
      "Contract Until                 object\n",
      "Club Jersey Number             object\n",
      "Joined On                       int64\n",
      "On Loan                        object\n",
      "Preferred Foot                 object\n",
      "Weak Foot Rating                int64\n",
      "Skill Moves                     int64\n",
      "International Reputation        int64\n",
      "National Team Name             object\n",
      "National Team Image Link       object\n",
      "National Team Position         object\n",
      "National Team Jersey Number    object\n",
      "Attacking Work Rate            object\n",
      "Defensive Work Rate            object\n",
      "dtype: object\n"
     ]
    },
    {
     "data": {
      "text/html": [
       "<div>\n",
       "<style scoped>\n",
       "    .dataframe tbody tr th:only-of-type {\n",
       "        vertical-align: middle;\n",
       "    }\n",
       "\n",
       "    .dataframe tbody tr th {\n",
       "        vertical-align: top;\n",
       "    }\n",
       "\n",
       "    .dataframe thead th {\n",
       "        text-align: right;\n",
       "    }\n",
       "</style>\n",
       "<table border=\"1\" class=\"dataframe\">\n",
       "  <thead>\n",
       "    <tr style=\"text-align: right;\">\n",
       "      <th></th>\n",
       "      <th>Unnamed: 0</th>\n",
       "      <th>Known As</th>\n",
       "      <th>Full Name</th>\n",
       "      <th>Overall</th>\n",
       "      <th>Potential</th>\n",
       "      <th>Value(in Euro)</th>\n",
       "      <th>Positions Played</th>\n",
       "      <th>Best Position</th>\n",
       "      <th>Nationality</th>\n",
       "      <th>Image Link</th>\n",
       "      <th>...</th>\n",
       "      <th>Preferred Foot</th>\n",
       "      <th>Weak Foot Rating</th>\n",
       "      <th>Skill Moves</th>\n",
       "      <th>International Reputation</th>\n",
       "      <th>National Team Name</th>\n",
       "      <th>National Team Image Link</th>\n",
       "      <th>National Team Position</th>\n",
       "      <th>National Team Jersey Number</th>\n",
       "      <th>Attacking Work Rate</th>\n",
       "      <th>Defensive Work Rate</th>\n",
       "    </tr>\n",
       "  </thead>\n",
       "  <tbody>\n",
       "    <tr>\n",
       "      <th>0</th>\n",
       "      <td>0</td>\n",
       "      <td>L. Messi</td>\n",
       "      <td>Lionel Messi</td>\n",
       "      <td>91</td>\n",
       "      <td>91</td>\n",
       "      <td>54000000</td>\n",
       "      <td>RW</td>\n",
       "      <td>CAM</td>\n",
       "      <td>Argentina</td>\n",
       "      <td>https://cdn.sofifa.net/players/158/023/23_60.png</td>\n",
       "      <td>...</td>\n",
       "      <td>Left</td>\n",
       "      <td>4</td>\n",
       "      <td>4</td>\n",
       "      <td>5</td>\n",
       "      <td>Argentina</td>\n",
       "      <td>https://cdn.sofifa.net/flags/ar.png</td>\n",
       "      <td>RW</td>\n",
       "      <td>10</td>\n",
       "      <td>Low</td>\n",
       "      <td>Low</td>\n",
       "    </tr>\n",
       "    <tr>\n",
       "      <th>1</th>\n",
       "      <td>1</td>\n",
       "      <td>K. Benzema</td>\n",
       "      <td>Karim Benzema</td>\n",
       "      <td>91</td>\n",
       "      <td>91</td>\n",
       "      <td>64000000</td>\n",
       "      <td>CF,ST</td>\n",
       "      <td>CF</td>\n",
       "      <td>France</td>\n",
       "      <td>https://cdn.sofifa.net/players/165/153/23_60.png</td>\n",
       "      <td>...</td>\n",
       "      <td>Right</td>\n",
       "      <td>4</td>\n",
       "      <td>4</td>\n",
       "      <td>4</td>\n",
       "      <td>France</td>\n",
       "      <td>https://cdn.sofifa.net/flags/fr.png</td>\n",
       "      <td>ST</td>\n",
       "      <td>19</td>\n",
       "      <td>Medium</td>\n",
       "      <td>Medium</td>\n",
       "    </tr>\n",
       "    <tr>\n",
       "      <th>2</th>\n",
       "      <td>2</td>\n",
       "      <td>R. Lewandowski</td>\n",
       "      <td>Robert Lewandowski</td>\n",
       "      <td>91</td>\n",
       "      <td>91</td>\n",
       "      <td>84000000</td>\n",
       "      <td>ST</td>\n",
       "      <td>ST</td>\n",
       "      <td>Poland</td>\n",
       "      <td>https://cdn.sofifa.net/players/188/545/23_60.png</td>\n",
       "      <td>...</td>\n",
       "      <td>Right</td>\n",
       "      <td>4</td>\n",
       "      <td>4</td>\n",
       "      <td>5</td>\n",
       "      <td>Poland</td>\n",
       "      <td>https://cdn.sofifa.net/flags/pl.png</td>\n",
       "      <td>ST</td>\n",
       "      <td>9</td>\n",
       "      <td>High</td>\n",
       "      <td>Medium</td>\n",
       "    </tr>\n",
       "    <tr>\n",
       "      <th>3</th>\n",
       "      <td>3</td>\n",
       "      <td>K. De Bruyne</td>\n",
       "      <td>Kevin De Bruyne</td>\n",
       "      <td>91</td>\n",
       "      <td>91</td>\n",
       "      <td>107500000</td>\n",
       "      <td>CM,CAM</td>\n",
       "      <td>CM</td>\n",
       "      <td>Belgium</td>\n",
       "      <td>https://cdn.sofifa.net/players/192/985/23_60.png</td>\n",
       "      <td>...</td>\n",
       "      <td>Right</td>\n",
       "      <td>5</td>\n",
       "      <td>4</td>\n",
       "      <td>4</td>\n",
       "      <td>Belgium</td>\n",
       "      <td>https://cdn.sofifa.net/flags/be.png</td>\n",
       "      <td>RF</td>\n",
       "      <td>7</td>\n",
       "      <td>High</td>\n",
       "      <td>High</td>\n",
       "    </tr>\n",
       "    <tr>\n",
       "      <th>4</th>\n",
       "      <td>4</td>\n",
       "      <td>K. Mbappé</td>\n",
       "      <td>Kylian Mbappé</td>\n",
       "      <td>91</td>\n",
       "      <td>95</td>\n",
       "      <td>190500000</td>\n",
       "      <td>ST,LW</td>\n",
       "      <td>ST</td>\n",
       "      <td>France</td>\n",
       "      <td>https://cdn.sofifa.net/players/231/747/23_60.png</td>\n",
       "      <td>...</td>\n",
       "      <td>Right</td>\n",
       "      <td>4</td>\n",
       "      <td>5</td>\n",
       "      <td>4</td>\n",
       "      <td>France</td>\n",
       "      <td>https://cdn.sofifa.net/flags/fr.png</td>\n",
       "      <td>ST</td>\n",
       "      <td>10</td>\n",
       "      <td>High</td>\n",
       "      <td>Low</td>\n",
       "    </tr>\n",
       "  </tbody>\n",
       "</table>\n",
       "<p>5 rows × 33 columns</p>\n",
       "</div>"
      ],
      "text/plain": [
       "   Unnamed: 0        Known As           Full Name  Overall  Potential  \\\n",
       "0           0        L. Messi        Lionel Messi       91         91   \n",
       "1           1      K. Benzema       Karim Benzema       91         91   \n",
       "2           2  R. Lewandowski  Robert Lewandowski       91         91   \n",
       "3           3    K. De Bruyne     Kevin De Bruyne       91         91   \n",
       "4           4       K. Mbappé       Kylian Mbappé       91         95   \n",
       "\n",
       "   Value(in Euro) Positions Played Best Position Nationality  \\\n",
       "0        54000000               RW           CAM   Argentina   \n",
       "1        64000000            CF,ST            CF      France   \n",
       "2        84000000               ST            ST      Poland   \n",
       "3       107500000           CM,CAM            CM     Belgium   \n",
       "4       190500000            ST,LW            ST      France   \n",
       "\n",
       "                                         Image Link  ...  Preferred Foot  \\\n",
       "0  https://cdn.sofifa.net/players/158/023/23_60.png  ...            Left   \n",
       "1  https://cdn.sofifa.net/players/165/153/23_60.png  ...           Right   \n",
       "2  https://cdn.sofifa.net/players/188/545/23_60.png  ...           Right   \n",
       "3  https://cdn.sofifa.net/players/192/985/23_60.png  ...           Right   \n",
       "4  https://cdn.sofifa.net/players/231/747/23_60.png  ...           Right   \n",
       "\n",
       "   Weak Foot Rating  Skill Moves  International Reputation  \\\n",
       "0                 4            4                         5   \n",
       "1                 4            4                         4   \n",
       "2                 4            4                         5   \n",
       "3                 5            4                         4   \n",
       "4                 4            5                         4   \n",
       "\n",
       "   National Team Name             National Team Image Link  \\\n",
       "0           Argentina  https://cdn.sofifa.net/flags/ar.png   \n",
       "1              France  https://cdn.sofifa.net/flags/fr.png   \n",
       "2              Poland  https://cdn.sofifa.net/flags/pl.png   \n",
       "3             Belgium  https://cdn.sofifa.net/flags/be.png   \n",
       "4              France  https://cdn.sofifa.net/flags/fr.png   \n",
       "\n",
       "   National Team Position  National Team Jersey Number Attacking Work Rate  \\\n",
       "0                      RW                           10                 Low   \n",
       "1                      ST                           19              Medium   \n",
       "2                      ST                            9                High   \n",
       "3                      RF                            7                High   \n",
       "4                      ST                           10                High   \n",
       "\n",
       "  Defensive Work Rate  \n",
       "0                 Low  \n",
       "1              Medium  \n",
       "2              Medium  \n",
       "3                High  \n",
       "4                 Low  \n",
       "\n",
       "[5 rows x 33 columns]"
      ]
     },
     "execution_count": 7,
     "metadata": {},
     "output_type": "execute_result"
    }
   ],
   "source": [
    "# Write your own code\n",
    "fifa = pd.read_csv(\"data_quiz/fifa23_players_basic.csv\")\n",
    "print(fifa.dtypes)\n",
    "fifa.head()\n",
    "\n"
   ]
  },
  {
   "attachments": {},
   "cell_type": "markdown",
   "metadata": {},
   "source": [
    "<font size = \"5\">\n",
    "\n",
    "(a) Use queries + global variables\n",
    "\n",
    "<font size = \"3\">\n",
    "\n",
    "- Subset the players whose value of the column \"On Loan\" is \"YES\" <br>\n",
    "and store it in a new dataset\n",
    "- How many players are on loan?\n",
    "\n",
    "HINT: Remember that there is a special syntax for <br>\n",
    "when the column names have spaces (see Lecture 10) <br>\n",
    "and when the value is a string. <br>\n",
    "Reference the column as ``` `On Loan` ``` inside .query()"
   ]
  },
  {
   "cell_type": "code",
   "execution_count": 15,
   "metadata": {},
   "outputs": [
    {
     "name": "stdout",
     "output_type": "stream",
     "text": [
      "1229 players are on loan\n"
     ]
    }
   ],
   "source": [
    "# Write your own code\n",
    "\n",
    "loanstatus = 'YES'\n",
    "onLoan = fifa.query(\"`On Loan` == @loanstatus\")\n",
    "onLoan.shape\n",
    "\n",
    "print('1229 players are on loan')\n"
   ]
  },
  {
   "attachments": {},
   "cell_type": "markdown",
   "metadata": {},
   "source": [
    "<font size = \"5\">\n",
    "\n",
    "(b) Create a function and apply it to a column <br>\n",
    "\n",
    "<font size = \"3\">\n",
    "\n",
    "Step 1:\n",
    "- Define a function with a parameter \"Overall\"\n",
    "- If \"Overall > 90\", classification = \"Top Performer\"\n",
    "- If \"Overall <= 90\", classification = \"Non Top-Performer\"\n",
    "- The function returns \"classification\"\n",
    "\n",
    "Step 2:\n",
    "- Extract the column \"Overall\" in the dataset <br>\n",
    "(be carefeful to write the \"O\" capitalized)\n",
    "- Create a new variable called \"player_classification\" <br>\n",
    "to assign each player to the correct classification\n",
    "\n",
    "HINT: Use the \".apply()\" function"
   ]
  },
  {
   "cell_type": "code",
   "execution_count": 17,
   "metadata": {},
   "outputs": [],
   "source": [
    "# Write your own code\n",
    "\n",
    "def topPerformer(rating):\n",
    "    if rating > 90:\n",
    "        classification = \"Top Performer\"\n",
    "    elif rating <= 90:\n",
    "        classification = \"Non Top-Performer\"\n",
    "    return classification\n",
    "\n",
    "fifa['player_classification'] = fifa['Overall'].apply(topPerformer)"
   ]
  },
  {
   "attachments": {},
   "cell_type": "markdown",
   "metadata": {},
   "source": [
    "<font size = \"5\">\n",
    "\n",
    "(c) Use sorting + \".iloc[]\"\n",
    "\n",
    "<font size = \"3\">\n",
    "\n",
    "The varable \"Joined On\" shows the date in which each player joined FIFA\n",
    "- Use \".sort_values()\" to order the \"Joined On\" column <br>\n",
    "from earlier data to later date\n",
    "- Get a subset with the 6 players in the dataset <br>\n",
    "who joined FIFA earliest\n",
    "- From this subset, display the year in which they joined <br>\n",
    "by displaying the column \"Joined On\""
   ]
  },
  {
   "cell_type": "code",
   "execution_count": 24,
   "metadata": {},
   "outputs": [
    {
     "name": "stdout",
     "output_type": "stream",
     "text": [
      "12305    2022\n",
      "15678    2022\n",
      "5252     2022\n",
      "5251     2022\n",
      "15670    2022\n",
      "15671    2022\n",
      "Name: Joined On, dtype: int64\n"
     ]
    }
   ],
   "source": [
    "# Write your own code\n",
    "fifaSorted = fifa.sort_values(by= 'Joined On', ascending=False)\n",
    "fifaEarliest = fifaSorted.iloc[0:6]\n",
    "print(fifaEarliest['Joined On'])"
   ]
  },
  {
   "attachments": {},
   "cell_type": "markdown",
   "metadata": {},
   "source": [
    "<font size = \"5\">\n",
    "\n",
    "(d) Regression function\n",
    "\n",
    "<font size = \"3\">\n",
    "\n",
    "- Run a regression of \"Potential\" (left-hand side) on \"Age\" (right-hand side)\n",
    "- What are the values of the coefficients?\n",
    "\n",
    "[HINT: Use the commands ```smf.ols()``` and ```.fit()``` and ```.params``` <br>\n",
    "from Lecture 11 ]\n"
   ]
  },
  {
   "cell_type": "code",
   "execution_count": 77,
   "metadata": {},
   "outputs": [
    {
     "data": {
      "image/png": "[encoded data removed]",
      "text/plain": [
       "<Figure size 600x300 with 1 Axes>"
      ]
     },
     "metadata": {},
     "output_type": "display_data"
    }
   ],
   "source": [
    "# Write your own code\n",
    "model = smf.ols(formula= 'Potential ~ Age', data = fifa)\n",
    "results = model.fit()\n",
    "\n",
    "fifa['estimated_potential'] = results.params[0] + results.params[1] * fifa['Age']\n",
    "\n",
    "plt.figure(figsize=(6,3))\n",
    "plt.scatter(x = fifa['Age'], y = fifa['Potential'],alpha = 0.15)\n",
    "plt.plot(fifa['Age'],fifa['estimated_potential'], color = 'green')\n",
    "plt.legend(labels = [\"Player Data\", \"Estimated Potential\"])\n",
    "plt.xlabel(\"Player Age\")\n",
    "plt.ylabel(\"Player Potential\")\n",
    "plt.title(\"Predicting Player Potential using Age\")\n",
    "plt.show()"
   ]
  },
  {
   "attachments": {},
   "cell_type": "markdown",
   "metadata": {},
   "source": [
    "<font size = \"5\">\n",
    "\n",
    "(e) Split a dataset into subsets\n",
    "\n",
    "<font size = \"3\">\n",
    "\n",
    "- Store the total number of rows of the dataset in a variable called ```n``` <br>\n",
    "- Create a new variable called ```random_var``` drawn from a <br>\n",
    "uniform distribution between 0 and 1 with size ```n```\n",
    "- Use .query() to subset all observations with ```random_var <0.5```.<br>\n",
    "store it in a new dataset called \"data0\"\n",
    "- Use .query() to subset all observations with ```random_var >= 0.5```.<br>\n",
    "store it in a new dataset called \"data1\"\n",
    "\n",
    "[HINT: See Lecture 2 for how to generate a uniform random variable]\n"
   ]
  },
  {
   "cell_type": "code",
   "execution_count": 54,
   "metadata": {},
   "outputs": [],
   "source": [
    "# Write your own code\n",
    "n = fifa.index.size\n",
    "fifa['random_var'] = np.random.uniform(0,1,n)\n",
    "\n",
    "data0 = fifa.query('random_var < 0.5')\n",
    "data1 = fifa.query('random_var >= 0.5')"
   ]
  },
  {
   "attachments": {},
   "cell_type": "markdown",
   "metadata": {},
   "source": [
    "<font size = \"5\">\n",
    "\n",
    "(f) Create two overlapping histogram plots\n",
    "\n",
    "<font size = \"3\">\n",
    "\n",
    "- This question requires the two datasets you created in (e)\n",
    "- Display the distribution of \"Age\" for \"data0\" and \"data1\" using <br>\n",
    "```plt.hist()```\n",
    "- You will need to label the axes, and the title\n",
    "- To get full points, plot the histograms with the option  ```alpha = 0.5```, e.g. <br>\n",
    " ``` plt.hist(x = ..., alpha = 0.5) ``` <br>\n",
    " Make sure to substitute the corresponding \"x\" vector instead of ```...``` <br>\n",
    "(The alpha option sets the transparency of the histogram )\n",
    "\n",
    "Note: The goal of this question is to illustrate that random <br>\n",
    "assignment produces very similar distributions between two groups"
   ]
  },
  {
   "cell_type": "code",
   "execution_count": 76,
   "metadata": {},
   "outputs": [
    {
     "data": {
      "text/plain": [
       "Text(0.5, 1.0, 'Distribution of Age')"
      ]
     },
     "execution_count": 76,
     "metadata": {},
     "output_type": "execute_result"
    },
    {
     "data": {
      "image/png": "[encoded data removed]",
      "text/plain": [
       "<Figure size 600x300 with 1 Axes>"
      ]
     },
     "metadata": {},
     "output_type": "display_data"
    }
   ],
   "source": [
    "# Write your own code\n",
    "plt.figure(figsize=(6,3))\n",
    "plt.hist(data0['Age'],alpha=0.5,color='darkblue',label=\"data0\")\n",
    "plt.hist(data1['Age'],alpha=0.5,color='limegreen',label=\"data1\")\n",
    "plt.legend()\n",
    "plt.xlabel(\"Player Age\")\n",
    "plt.ylabel(\"Frequency\")\n",
    "plt.title(\"Distribution of Age\")\n",
    "\n",
    "\n",
    "\n"
   ]
  }
 ],
 "metadata": {
  "kernelspec": {
   "display_name": "base",
   "language": "python",
   "name": "python3"
  },
  "language_info": {
   "codemirror_mode": {
    "name": "ipython",
    "version": 3
   },
   "file_extension": ".py",
   "mimetype": "text/x-python",
   "name": "python",
   "nbconvert_exporter": "python",
   "pygments_lexer": "ipython3",
   "version": "3.11.5"
  },
  "orig_nbformat": 4,
  "vscode": {
   "interpreter": {
    "hash": "45fc1f684f6f416f40889115beff3ddf69879b64cf4bfee48cb72a61e9d15d1a"
   }
  }
 },
 "nbformat": 4,
 "nbformat_minor": 2
}
