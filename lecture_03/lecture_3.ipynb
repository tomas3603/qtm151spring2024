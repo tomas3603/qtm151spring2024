{
 "cells": [
  {
   "attachments": {},
   "cell_type": "markdown",
   "metadata": {},
   "source": [
    "# <span style=\"color:darkblue\"> Lecture 3: Mathematical Operations and Random Numbers </span>"
   ]
  },
  {
   "attachments": {},
   "cell_type": "markdown",
   "metadata": {},
   "source": [
    "<font size=\"5\"> \n",
    "\n",
    "In the previous class we:\n",
    "- Introduced lists and variable types\n",
    "- Talked about how to extract elements from a list"
   ]
  },
  {
   "attachments": {},
   "cell_type": "markdown",
   "metadata": {},
   "source": [
    "<font size=\"5\"> \n",
    "\n",
    "In this class we will:\n",
    "\n",
    "- Introduce a library for general mathematical operations\n",
    "- Generate random numbers\n",
    "- (Optional) Matrix operations"
   ]
  },
  {
   "attachments": {},
   "cell_type": "markdown",
   "metadata": {},
   "source": [
    "## <span style=\"color:darkblue\"> I. Import Libraries </span>"
   ]
  },
  {
   "cell_type": "code",
   "execution_count": 1,
   "metadata": {},
   "outputs": [],
   "source": [
    "# the \"numPy\" library is used for mathematical operations\n",
    "# the \"matplotlib\" library is for generating graphs\n",
    "\n",
    "import numpy as np\n",
    "import matplotlib.pyplot as plt\n"
   ]
  },
  {
   "attachments": {},
   "cell_type": "markdown",
   "metadata": {},
   "source": [
    "##  <span style=\"color:darkblue\"> II. Numbers and Functions </span>"
   ]
  },
  {
   "attachments": {},
   "cell_type": "markdown",
   "metadata": {},
   "source": [
    "<font size = \"5\" >\n",
    "Examples of numPy numbers"
   ]
  },
  {
   "cell_type": "code",
   "execution_count": 2,
   "metadata": {},
   "outputs": [
    {
     "data": {
      "text/plain": [
       "3.141592653589793"
      ]
     },
     "execution_count": 2,
     "metadata": {},
     "output_type": "execute_result"
    }
   ],
   "source": [
    "# Computes \"pi\" (3.14...)\n",
    "\n",
    "np.pi"
   ]
  },
  {
   "attachments": {},
   "cell_type": "markdown",
   "metadata": {},
   "source": [
    "<font size = \"5\" >\n",
    "\n",
    "Examples of numPy functions\n",
    "\n",
    "$ ln(x), e^x, sin(x), cos(x), \\sqrt{x}$"
   ]
  },
  {
   "cell_type": "code",
   "execution_count": 3,
   "metadata": {},
   "outputs": [
    {
     "name": "stdout",
     "output_type": "stream",
     "text": [
      "0.0\n",
      "2.718281828459045\n",
      "0.8414709848078965\n",
      "0.5403023058681398\n",
      "1.0\n"
     ]
    }
   ],
   "source": [
    "# log(x) computes the logarithm with base \"e\" (Euler constant)\n",
    "# exp(x) compute the Euler constant raised to the power of \"x\"\n",
    "# sing(x) computes the sine of x\n",
    "# cos(x) computes the cosine of x\n",
    "# In this example, we're substituting x = 1\n",
    "\n",
    "print(np.log(1))\n",
    "print(np.exp(1))\n",
    "print(np.sin(1))\n",
    "print(np.cos(1))\n",
    "print(np.sqrt(1))"
   ]
  },
  {
   "cell_type": "markdown",
   "metadata": {},
   "source": [
    "<font size = \"5\">\n",
    "\n",
    "Raising to the power of a number\n",
    "\n",
    "$ x^5 $"
   ]
  },
  {
   "cell_type": "code",
   "execution_count": 6,
   "metadata": {},
   "outputs": [
    {
     "data": {
      "text/plain": [
       "100000"
      ]
     },
     "execution_count": 6,
     "metadata": {},
     "output_type": "execute_result"
    }
   ],
   "source": [
    "x = 10\n",
    "x ** 5\n",
    "\n",
    "# Not x^5"
   ]
  },
  {
   "attachments": {},
   "cell_type": "markdown",
   "metadata": {},
   "source": [
    "<font size = \"5\">\n",
    "\n",
    "Try it yourself!\n",
    "\n",
    "- Create a new variable, $x = 5$\n",
    "- Compute $\\pi x^2$\n",
    "- Compute $ \\frac{1}{\\sqrt{2\\pi}}e^{-x^2} $"
   ]
  },
  {
   "cell_type": "code",
<<<<<<< HEAD
   "execution_count": 13,
=======
   "execution_count": 9,
>>>>>>> upstream/main
   "metadata": {},
   "outputs": [
    {
     "name": "stdout",
     "output_type": "stream",
     "text": [
<<<<<<< HEAD
      "78.53981633974483\n"
=======
      "78.53981633974483\n",
      "5.540487995575833e-12\n"
>>>>>>> upstream/main
     ]
    }
   ],
   "source": [
    "# Write your own code\n",
<<<<<<< HEAD
    "x=5\n",
    "print(np.pi*x**2)\n",
=======
    "\n",
    "x = 5\n",
    "print( np.pi * (x**2))\n",
>>>>>>> upstream/main
    "\n",
    "print( (1/np.sqrt(2*np.pi))* np.exp(-x**2) )\n",
    "\n"
   ]
  },
  {
   "attachments": {},
   "cell_type": "markdown",
   "metadata": {},
   "source": [
    "##  <span style=\"color:darkblue\"> III. Vector Arrays </span>"
   ]
  },
  {
   "attachments": {},
   "cell_type": "markdown",
   "metadata": {},
   "source": [
    "<font size = \"5\">\n",
    "Create an array from a list\n",
    "\n",
    "$ \\text{ }$\n",
    "$ a = \\begin{pmatrix} 1 \\\\ 2 \\\\ 3 \\end{pmatrix}\n",
    "\\qquad b = \\begin{pmatrix} 0 \\\\ 1 \\\\ 0\\end{pmatrix}\n",
    "\\qquad c = \\begin{pmatrix} 10 \\\\ 100 \\\\ 1000 \\\\ 2000 \\\\ 5000 \\end{pmatrix} \n",
    "\\qquad d = \\begin{pmatrix} 4 \\\\ 2 \\end{pmatrix} $"
   ]
  },
  {
   "cell_type": "code",
<<<<<<< HEAD
   "execution_count": 10,
=======
   "execution_count": 11,
>>>>>>> upstream/main
   "metadata": {},
   "outputs": [],
   "source": [
    "# You create an array by converting a list [1,2,3] to a numeric object\n",
    "# \"array\" is a subfunction of the library numPy.\n",
    "\n",
    "vec_a  = np.array([1,2,3])\n",
    "vec_b  = np.array([0,1,0])\n",
<<<<<<< HEAD
    "vec_c  = np.array([10,100,1000,2000,5000])\n",
    "vec_d = np.array([4,2])\n"
=======
    "vec_c  = np.array([10,100,1000,2000,5000 ])\n"
>>>>>>> upstream/main
   ]
  },
  {
   "attachments": {},
   "cell_type": "markdown",
   "metadata": {},
   "source": [
    "<font size = \"5\">\n",
    "\n",
    "Accessing an element of an array"
   ]
  },
  {
   "cell_type": "code",
<<<<<<< HEAD
   "execution_count": 11,
=======
   "execution_count": 13,
>>>>>>> upstream/main
   "metadata": {},
   "outputs": [
    {
     "name": "stdout",
     "output_type": "stream",
     "text": [
      "1\n",
      "3\n"
     ]
    }
   ],
   "source": [
    "# Arrays, like lists, start their numbering at zero.\n",
    "# You also access them with square brackets\n",
    "\n",
    "print(vec_a[0])\n",
    "print(vec_a[2])\n"
   ]
  },
  {
   "attachments": {},
   "cell_type": "markdown",
   "metadata": {},
   "source": [
    "<font size = \"5\">\n",
    "Operations with a single array and a scalar"
   ]
  },
  {
   "attachments": {},
   "cell_type": "markdown",
   "metadata": {},
   "source": [
    "<font size = \"5\">\n",
    "\n",
    "$ a + 2 = \\begin{pmatrix} a_1 + 2 \\\\ a_2 + 2 \\\\ a_3 + 2 \\end{pmatrix}$"
   ]
  },
  {
   "cell_type": "code",
<<<<<<< HEAD
   "execution_count": 12,
=======
   "execution_count": 14,
>>>>>>> upstream/main
   "metadata": {},
   "outputs": [
    {
     "name": "stdout",
     "output_type": "stream",
     "text": [
      "[2 4 6]\n",
      "[0.5 1.  1.5]\n",
      "[3 4 5]\n",
      "[1 4 9]\n"
     ]
    }
   ],
   "source": [
    "# A scalar refers to either an int or float\n",
    "# We can do many common operations with \n",
    "\n",
    "print(vec_a * 2)\n",
    "print(vec_a / 2)\n",
    "print(vec_a + 2)\n",
    "print(vec_a ** 2)"
   ]
  },
  {
   "attachments": {},
   "cell_type": "markdown",
   "metadata": {},
   "source": [
    "<font size = \"5\">\n",
    "Element-by-element addition between two arrays of the same size\n",
    "\n",
    "$\\text{ }$\n",
    "\n",
    "$ a + b = \\begin{pmatrix} a_1 \\\\ a_2 \\\\ a_3 \\end{pmatrix} +\n",
    "          \\begin{pmatrix} b_1 \\\\ b_2 \\\\ b_3 \\end{pmatrix} =\n",
    "          \\begin{pmatrix} a_1 + b_1 \\\\ a_2 + b_2 \\\\ a_3 + b_3 \\end{pmatrix}$"
   ]
  },
  {
   "cell_type": "code",
<<<<<<< HEAD
   "execution_count": 14,
=======
   "execution_count": 15,
>>>>>>> upstream/main
   "metadata": {},
   "outputs": [
    {
     "name": "stdout",
     "output_type": "stream",
     "text": [
      "[1 2 3]\n",
      "[0 1 0]\n"
     ]
    }
   ],
   "source": [
    "print(vec_a)\n",
    "print(vec_b)"
   ]
  },
  {
   "cell_type": "code",
<<<<<<< HEAD
   "execution_count": 15,
=======
   "execution_count": 16,
>>>>>>> upstream/main
   "metadata": {},
   "outputs": [
    {
     "name": "stdout",
     "output_type": "stream",
     "text": [
      "[1 3 3]\n"
     ]
    }
   ],
   "source": [
    "# When you add two arrays of the same size,\n",
    "# Python adds the individual elements in each position\n",
    "\n",
    "print(vec_a + vec_b)\n"
   ]
  },
  {
   "attachments": {},
   "cell_type": "markdown",
   "metadata": {},
   "source": [
    "<font size =\"5\">\n",
    "\n",
    "The default multiplication option is element-by element:\n",
    "\n",
    "$ a * b = \\begin{pmatrix} a_1 * b_1 \\\\ a_2 * b_2 \\\\ a_3 * b_3 \\end{pmatrix}$"
   ]
  },
  {
   "cell_type": "code",
<<<<<<< HEAD
   "execution_count": 16,
=======
   "execution_count": 17,
>>>>>>> upstream/main
   "metadata": {},
   "outputs": [
    {
     "name": "stdout",
     "output_type": "stream",
     "text": [
      "[0 2 0]\n",
      "[1 1 3]\n",
      "[inf  2. inf]\n"
     ]
    },
    {
     "name": "stderr",
     "output_type": "stream",
     "text": [
<<<<<<< HEAD
      "C:\\Users\\hossa\\AppData\\Local\\Temp\\ipykernel_10992\\3839639845.py:6: RuntimeWarning: divide by zero encountered in divide\n",
=======
      "/var/folders/1b/jzb9ndz97b5260fzr9d8kzyh5f7xd6/T/ipykernel_29828/3839639845.py:6: RuntimeWarning: divide by zero encountered in true_divide\n",
>>>>>>> upstream/main
      "  print(vec_a / vec_b)\n"
     ]
    }
   ],
   "source": [
    "# We can do other similar element-by-element operations\n",
    "# such as multiplication, subtraction, and division.\n",
    "\n",
    "print(vec_a * vec_b)\n",
    "print(vec_a - vec_b)\n",
    "print(vec_a / vec_b)\n"
   ]
  },
  {
   "attachments": {},
   "cell_type": "markdown",
   "metadata": {},
   "source": [
    "<font size = \"5\">\n",
    "Summary statistics of an array"
   ]
  },
  {
   "cell_type": "code",
<<<<<<< HEAD
   "execution_count": 17,
=======
   "execution_count": 18,
>>>>>>> upstream/main
   "metadata": {},
   "outputs": [
    {
     "name": "stdout",
     "output_type": "stream",
     "text": [
      "2.0\n",
      "0.816496580927726\n",
      "1\n",
      "2.0\n",
      "3\n"
     ]
    }
   ],
   "source": [
    "# The function np.mean() computes the mean of an array\n",
    "# We can do similar operations for the standard deviation (std),\n",
    "# the minimum (min), the median (median), and the maximum (max).\n",
    "\n",
    "print(np.mean(vec_a))\n",
    "print(np.std(vec_a))\n",
    "print(np.min(vec_a))\n",
    "print(np.median(vec_a))\n",
    "print(np.max(vec_a))"
   ]
  },
  {
   "attachments": {},
   "cell_type": "markdown",
   "metadata": {},
   "source": [
    "<font size = \"5\">\n",
    "\n",
    "Try it yourself! Compute the mean of\n",
    "\n",
    "\n",
    "$ e = \\begin{pmatrix} 10 \\\\ 8 \\\\ 15 \\\\ 0 \\\\ 24 \\end{pmatrix} $"
   ]
  },
  {
   "cell_type": "code",
   "execution_count": 19,
   "metadata": {},
   "outputs": [
    {
<<<<<<< HEAD
     "name": "stdout",
     "output_type": "stream",
     "text": [
      "11.4\n"
     ]
=======
     "data": {
      "text/plain": [
       "11.4"
      ]
     },
     "execution_count": 19,
     "metadata": {},
     "output_type": "execute_result"
>>>>>>> upstream/main
    }
   ],
   "source": [
    "# Create your own array and compute any of the above summary statistics\n",
<<<<<<< HEAD
    "vec_e=([10,8,15,0,24])\n",
    "print(np.mean(vec_e))\n",
=======
    "\n",
    "e = np.array( [10,8,15,0,24] )\n",
    "\n",
    "np.mean(e)\n",
    "\n",
>>>>>>> upstream/main
    "\n"
   ]
  },
  {
   "attachments": {},
   "cell_type": "markdown",
   "metadata": {},
   "source": [
    "<font size = \"5\">\n",
    "<span style=\"color:red\"> Common Pitfall </span>: Make sure that the arrays have the same size"
   ]
  },
  {
   "cell_type": "code",
<<<<<<< HEAD
   "execution_count": 21,
=======
   "execution_count": 20,
>>>>>>> upstream/main
   "metadata": {},
   "outputs": [
    {
     "name": "stdout",
     "output_type": "stream",
     "text": [
      "[1 2 3]\n",
      "[  10  100 1000 2000 5000]\n"
     ]
    }
   ],
   "source": [
    "print(vec_a)\n",
    "print(vec_c)"
   ]
  },
  {
   "cell_type": "code",
<<<<<<< HEAD
   "execution_count": 20,
=======
   "execution_count": 21,
>>>>>>> upstream/main
   "metadata": {},
   "outputs": [
    {
     "data": {
      "text/plain": [
       "(3,)"
      ]
     },
<<<<<<< HEAD
     "execution_count": 20,
=======
     "execution_count": 21,
>>>>>>> upstream/main
     "metadata": {},
     "output_type": "execute_result"
    }
   ],
   "source": [
    "vec_a.shape"
   ]
  },
  {
   "cell_type": "code",
   "execution_count": 22,
   "metadata": {},
   "outputs": [
    {
     "ename": "ValueError",
     "evalue": "operands could not be broadcast together with shapes (3,) (5,) ",
     "output_type": "error",
     "traceback": [
<<<<<<< HEAD
      "\u001b[1;31m---------------------------------------------------------------------------\u001b[0m",
      "\u001b[1;31mValueError\u001b[0m                                Traceback (most recent call last)",
      "Cell \u001b[1;32mIn[22], line 3\u001b[0m\n\u001b[0;32m      1\u001b[0m \u001b[38;5;66;03m# Here I try to combine two arrays of different size.\u001b[39;00m\n\u001b[1;32m----> 3\u001b[0m \u001b[43mvec_a\u001b[49m\u001b[43m \u001b[49m\u001b[38;5;241;43m+\u001b[39;49m\u001b[43m \u001b[49m\u001b[43mvec_c\u001b[49m\n",
      "\u001b[1;31mValueError\u001b[0m: operands could not be broadcast together with shapes (3,) (5,) "
=======
      "\u001b[0;31m---------------------------------------------------------------------------\u001b[0m",
      "\u001b[0;31mValueError\u001b[0m                                Traceback (most recent call last)",
      "\u001b[0;32m/var/folders/1b/jzb9ndz97b5260fzr9d8kzyh5f7xd6/T/ipykernel_29828/3893591031.py\u001b[0m in \u001b[0;36m<module>\u001b[0;34m\u001b[0m\n\u001b[1;32m      1\u001b[0m \u001b[0;31m# Here I try to combine two arrays of different size.\u001b[0m\u001b[0;34m\u001b[0m\u001b[0;34m\u001b[0m\u001b[0m\n\u001b[1;32m      2\u001b[0m \u001b[0;34m\u001b[0m\u001b[0m\n\u001b[0;32m----> 3\u001b[0;31m \u001b[0mvec_a\u001b[0m \u001b[0;34m+\u001b[0m \u001b[0mvec_c\u001b[0m\u001b[0;34m\u001b[0m\u001b[0;34m\u001b[0m\u001b[0m\n\u001b[0m",
      "\u001b[0;31mValueError\u001b[0m: operands could not be broadcast together with shapes (3,) (5,) "
>>>>>>> upstream/main
     ]
    }
   ],
   "source": [
    "# Here I try to combine two arrays of different size.\n",
    "\n",
    "vec_a + vec_c"
   ]
  },
  {
   "attachments": {},
   "cell_type": "markdown",
   "metadata": {},
   "source": [
    "##  <span style=\"color:darkblue\"> IV. Random Numbers </span>\n",
    "\n",
    "<font size = \"5\">\n",
    "\n",
    "Why randomness?\n",
    "\n",
    "- Simulate different scenarios: high risk or low risk\n",
    "- Study properties of a complex system and/or estimator\n",
    "- In medicine, randomly assign subjects to treatment or control"
   ]
  },
  {
   "attachments": {},
   "cell_type": "markdown",
   "metadata": {},
   "source": [
    "<font size = \"5\">\n",
    "\n",
    "Create a vector of random variables"
   ]
  },
  {
   "cell_type": "code",
<<<<<<< HEAD
   "execution_count": 23,
=======
   "execution_count": 37,
>>>>>>> upstream/main
   "metadata": {},
   "outputs": [
    {
     "name": "stdout",
     "output_type": "stream",
     "text": [
<<<<<<< HEAD
      "[-0.73114336  0.95171561  2.13218544  0.63779437 -0.15370868  1.09821578\n",
      " -0.11399093 -0.06549303 -0.1037199   0.43820561]\n"
=======
      "[ 0.28904557 -0.34259521 -1.53873514  1.95141492 -0.25062358 -0.32367552\n",
      " -0.68196447 -1.70393137 -0.43218152 -1.26016168]\n"
>>>>>>> upstream/main
     ]
    }
   ],
   "source": [
    "# This code creates a vector of random variables \n",
    "# generated from a normal distribution with\n",
    "# mean \"loc\" (location) and standard deviation \"scale\"\n",
    "# the number of distinct variabels is \"size\"\n",
    "\n",
    "randomvar_a = np.random.normal(loc=0, scale=1, size=10)\n",
    "print(randomvar_a)"
   ]
  },
  {
   "attachments": {},
   "cell_type": "markdown",
   "metadata": {},
   "source": [
    "<font size = \"5\">\n",
    "\n",
    "Random numbers differ every time!\n",
    "\n",
    "- Avoid this problem by drawing from a \"pregenerated\" set.\n",
    "- This is called a seed"
   ]
  },
  {
   "cell_type": "code",
<<<<<<< HEAD
   "execution_count": 28,
=======
   "execution_count": 56,
>>>>>>> upstream/main
   "metadata": {},
   "outputs": [
    {
     "name": "stdout",
     "output_type": "stream",
     "text": [
<<<<<<< HEAD
      "[ 1.11417929  1.44487377  0.26473752 -0.41701187 -1.71332341 -0.20751871\n",
      " -0.2088598  -1.03876599 -0.15437717 -0.67879554]\n"
=======
      "[ 1.3315865   0.71527897 -1.54540029 -0.00838385  0.62133597 -0.72008556\n",
      "  0.26551159  0.10854853  0.00429143 -0.17460021]\n"
>>>>>>> upstream/main
     ]
    }
   ],
   "source": [
    "# Your computer will typically generate different numbers every time you run a command\n",
    "# However, sometimes you want to be able to replicate the results\n",
    "# You can choose any other number instead of \"12345\". This will produce another set\n",
    "# of random numbers, but they will give the same answers\n",
    "\n",
    "np.random.seed(103931)\n",
    "\n",
    "random_var_b = np.random.normal(loc=0, scale=1, size=10)\n",
    "print(random_var_b)"
   ]
  },
  {
   "attachments": {},
   "cell_type": "markdown",
   "metadata": {},
   "source": [
    "<font size = \"5\">\n",
    "\n",
    "Compute a histogram with the results"
   ]
  },
  {
   "cell_type": "code",
<<<<<<< HEAD
   "execution_count": 32,
=======
   "execution_count": 58,
>>>>>>> upstream/main
   "metadata": {},
   "outputs": [
    {
     "data": {
      "text/plain": [
       "Text(0, 0.5, 'Frequency')"
      ]
     },
<<<<<<< HEAD
     "execution_count": 32,
=======
     "execution_count": 58,
>>>>>>> upstream/main
     "metadata": {},
     "output_type": "execute_result"
    },
    {
     "data": {
<<<<<<< HEAD
      "image/png": "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",
=======
      "image/png": "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",
>>>>>>> upstream/main
      "text/plain": [
       "<Figure size 640x480 with 1 Axes>"
      ]
     },
     "metadata": {},
     "output_type": "display_data"
    }
   ],
   "source": [
    "# Compute a histogram\n",
    "# You can edit the number of bins with plt.hist(x = randomvar_a)\n",
    "\n",
    "randomvar_x = np.random.normal(loc=0, scale=1, size=1000)\n",
    "\n",
    "plt.hist(x = randomvar_x)\n",
    "plt.xlabel(\"Variable a\")\n",
    "plt.ylabel(\"Frequency\")"
   ]
  },
  {
   "attachments": {},
   "cell_type": "markdown",
   "metadata": {},
   "source": [
    "<font size = \"5\">\n",
    "\n",
    "Try this again with $size = 100, 1000, 10000$"
   ]
  },
  {
   "cell_type": "code",
<<<<<<< HEAD
   "execution_count": 37,
=======
   "execution_count": 64,
>>>>>>> upstream/main
   "metadata": {},
   "outputs": [
    {
     "data": {
      "text/plain": [
<<<<<<< HEAD
       "(array([7.30000e+01, 1.99100e+03, 2.53970e+04, 1.38793e+05, 3.25348e+05,\n",
       "        3.31513e+05, 1.46532e+05, 2.79870e+04, 2.29400e+03, 7.20000e+01]),\n",
       " array([-4.76558586, -3.8167328 , -2.86787973, -1.91902667, -0.9701736 ,\n",
       "        -0.02132054,  0.92753253,  1.87638559,  2.82523865,  3.77409172,\n",
       "         4.72294478]),\n",
       " <BarContainer object of 10 artists>)"
      ]
     },
     "execution_count": 37,
=======
       "Text(0, 0.5, 'Frequency')"
      ]
     },
     "execution_count": 64,
>>>>>>> upstream/main
     "metadata": {},
     "output_type": "execute_result"
    },
    {
     "data": {
<<<<<<< HEAD
      "image/png": "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",
=======
      "image/png": "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",
>>>>>>> upstream/main
      "text/plain": [
       "<Figure size 640x480 with 1 Axes>"
      ]
     },
     "metadata": {},
     "output_type": "display_data"
    }
   ],
   "source": [
    "# Write the code for your histogram\n",
    "\n",
<<<<<<< HEAD
    "xrand=np.random.normal(loc=0,scale=1,size=1000000)\n",
    "\n",
    "plt.hist(x = xrand)\n",
=======
    "# Compute a histogram\n",
    "# You can edit the number of bins with plt.hist(x = randomvar_a)\n",
>>>>>>> upstream/main
    "\n",
    "randomvar_x = np.random.normal(loc=0, scale=1, size=10000)\n",
    "\n",
    "plt.hist(x = randomvar_x)\n",
    "plt.xlabel(\"Variable a\")\n",
    "\n",
    "plt.ylabel(\"Frequency\")\n",
    "\n"
   ]
  },
  {
   "attachments": {},
   "cell_type": "markdown",
   "metadata": {},
   "source": [
    "# <span style=\"color:darkblue\"> Additional Resources </span>\n",
    "\n",
    "<font size=\"5\"> \n",
    "\n",
    "Check out additional examples at:\n",
    "\n",
    "- https://allendowney.github.io/ElementsOfDataScience/03_arrays.html\n",
    "\n",
    "\n"
   ]
  },
  {
   "cell_type": "markdown",
   "metadata": {},
   "source": [
    "<font size = \"20\">\n",
    "\n",
    "asdasd\n"
   ]
  },
  {
   "attachments": {},
   "cell_type": "markdown",
   "metadata": {},
   "source": [
    "# <span style=\"color:darkblue\"> (Optional) Matrix Operations </span>\n",
    "\n",
    "<font size=\"5\"> \n"
   ]
  },
  {
   "attachments": {},
   "cell_type": "markdown",
   "metadata": {},
   "source": [
    "<font size = \"5\">\n",
    "Creating a matrix by stacking different rows\n",
    "\n",
    "$ \\text{ }$\n",
    "\n",
    "$ X = \\begin{pmatrix} 1 & 2 & 3 \\\\ \n",
    "                       0 & 4 & 5 \\\\\n",
    "                       0 & 0 & 6\n",
    "                       \\end{pmatrix} $"
   ]
  },
  {
   "cell_type": "code",
<<<<<<< HEAD
   "execution_count": 39,
=======
   "execution_count": 65,
>>>>>>> upstream/main
   "metadata": {},
   "outputs": [
    {
     "name": "stdout",
     "output_type": "stream",
     "text": [
      "[[1 2 3]\n",
      " [0 4 5]\n",
      " [0 0 6]]\n"
     ]
    }
   ],
   "source": [
    "# Matrices are usually denoted by capital letters\n",
    "# The object [[1,2,3],[4,5,6],[7,8,9]] is a list of lists\n",
    "# It's useful to maintain this notation in the code as well\n",
    "\n",
    "X = np.array([[1,2,3],[0,4,5],[0,0,6]])\n",
    "print(X)"
   ]
  },
  {
   "attachments": {},
   "cell_type": "markdown",
   "metadata": {},
   "source": [
    "<font size = \"5\">\n",
    "Creating a matrix by stacking different columns\n",
    "\n",
    "$ \\text{ } $\n",
    "\n",
    "$ Y = \\begin{pmatrix} 1 & 2 \\\\ 0 & 1 \\\\ 1 & 0 \\end{pmatrix}$"
   ]
  },
  {
   "cell_type": "code",
   "execution_count": 40,
   "metadata": {},
   "outputs": [
    {
     "name": "stdout",
     "output_type": "stream",
     "text": [
      "[[1 2]\n",
      " [0 1]\n",
      " [1 0]]\n"
     ]
    }
   ],
   "source": [
    "# You can also stack columns\n",
    "Y =  np.column_stack([[1,0,1],[2,1,0]])\n",
    "print(Y)"
   ]
  },
  {
   "attachments": {},
   "cell_type": "markdown",
   "metadata": {},
   "source": [
    "<font size = \"5\">\n",
    "Transpose\n",
    "\n",
    "$ \\text{ }$\n",
    "\n",
    "$ Y' = \\begin{pmatrix}  1 & 0 & 1 \\\\ 2 & 1 & 0  \\end{pmatrix} $"
   ]
  },
  {
   "cell_type": "code",
   "execution_count": 41,
   "metadata": {},
   "outputs": [
    {
     "data": {
      "text/plain": [
       "array([[1, 0, 1],\n",
       "       [2, 1, 0]])"
      ]
     },
     "execution_count": 41,
     "metadata": {},
     "output_type": "execute_result"
    }
   ],
   "source": [
    "# Matrix Transpose\n",
    "np.matrix.transpose(Y)"
   ]
  },
  {
   "attachments": {},
   "cell_type": "markdown",
   "metadata": {},
   "source": [
    "<font size = \"5\">\n",
    "\n",
    "Matrix multiplication\n",
    "\n",
    "$ XY = \\begin{pmatrix} 1 & 2 & 3 \\\\ \n",
    "                       0 & 4 & 5 \\\\\n",
    "                       0 & 0 & 6\n",
    "                       \\end{pmatrix}\n",
    "                       \\begin{pmatrix} 1 & 2 \\\\ 0 & 1 \\\\ 1 & 0 \\end{pmatrix} = \n",
    "        \\begin{pmatrix} 4 & 4 \\\\ 5 & 4 \\\\ 6 & 0 \\end{pmatrix} $"
   ]
  },
  {
   "cell_type": "code",
   "execution_count": 42,
   "metadata": {},
   "outputs": [
    {
     "data": {
      "text/plain": [
       "array([[4, 4],\n",
       "       [5, 4],\n",
       "       [6, 0]])"
      ]
     },
     "execution_count": 42,
     "metadata": {},
     "output_type": "execute_result"
    }
   ],
   "source": [
    "# Matrix Multiplication\n",
    "\n",
    "np.dot(X,Y)\n",
    "\n",
    "np.matmul(X,Y)"
   ]
  },
  {
   "attachments": {},
   "cell_type": "markdown",
   "metadata": {},
   "source": [
    "<font size = \"5\">\n",
    "\n",
    "Matrix inverse\n",
    "\n",
    "$ X^{-1} = \\begin{pmatrix} 1 & 2 & 3 \\\\ \n",
    "                       0 & 4 & 5 \\\\\n",
    "                       0 & 0 & 6\n",
    "                       \\end{pmatrix}^{-1} $"
   ]
  },
  {
   "cell_type": "code",
   "execution_count": 43,
   "metadata": {},
   "outputs": [
    {
     "name": "stdout",
     "output_type": "stream",
     "text": [
      "23.999999999999993\n",
      "[[ 1.         -0.5        -0.08333333]\n",
      " [ 0.          0.25       -0.20833333]\n",
      " [ 0.          0.          0.16666667]]\n"
     ]
    }
   ],
   "source": [
    "# Check the determinant of a matrix (a matrix is invertible if the determinant is not zero)\n",
    "print(np.linalg.det(X))\n",
    "\n",
    "# Matrix inverse\n",
    "# The following command stands for linear algebrar inverse.\n",
    "X_inv = np.linalg.inv(X)\n",
    "\n",
    "# Output the result\n",
    "print(X_inv)\n"
   ]
  },
  {
   "attachments": {},
   "cell_type": "markdown",
   "metadata": {},
   "source": [
    "<font size = \"5\">\n",
    "\n",
    "Try it yourself! Check that this is indeed an inverse:\n",
    "\n",
    "$X X_{inv} = \\begin{pmatrix} 1 & 0 & 0 \\\\ 0 & 1 & 0 \\\\ 0 & 0 & 1 \\end{pmatrix}$"
   ]
  },
  {
   "cell_type": "code",
   "execution_count": 44,
   "metadata": {},
   "outputs": [
    {
     "data": {
      "text/plain": [
       "array([[1., 0., 0.],\n",
       "       [0., 1., 0.],\n",
       "       [0., 0., 1.]])"
      ]
     },
     "execution_count": 44,
     "metadata": {},
     "output_type": "execute_result"
    }
   ],
   "source": [
    "# Multiply \"X\" times \"X_inv\" using the command shown above\n",
    "# Note: Sometimes the result is shown in scientific notation.\n",
    "np.matmul(X,X_inv)\n",
    "\n",
    "\n"
   ]
  }
 ],
 "metadata": {
  "kernelspec": {
   "display_name": "base",
   "language": "python",
   "name": "python3"
  },
  "language_info": {
   "codemirror_mode": {
    "name": "ipython",
    "version": 3
   },
   "file_extension": ".py",
   "mimetype": "text/x-python",
   "name": "python",
   "nbconvert_exporter": "python",
   "pygments_lexer": "ipython3",
<<<<<<< HEAD
   "version": "3.11.5"
=======
   "version": "3.9.13"
>>>>>>> upstream/main
  },
  "orig_nbformat": 4,
  "vscode": {
   "interpreter": {
    "hash": "45fc1f684f6f416f40889115beff3ddf69879b64cf4bfee48cb72a61e9d15d1a"
   }
  }
 },
 "nbformat": 4,
 "nbformat_minor": 2
}
